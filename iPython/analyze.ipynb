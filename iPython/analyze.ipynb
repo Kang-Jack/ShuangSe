{
 "cells": [
  {
   "cell_type": "code",
   "execution_count": 57,
   "metadata": {
    "collapsed": true,
    "scrolled": true
   },
   "outputs": [],
   "source": [
    "import time\n",
    "from pandas import DataFrame, Series\n",
    "import pandas as pd\n",
    "import numpy as np\n",
    "import matplotlib.pyplot as plt\n",
    "import sys, getopt\n",
    "import dblottery\n",
    "from query_historical_data import historical_data\n",
    "from census import census_data\n",
    "\n",
    "%matplotlib inline"
   ]
  },
  {
   "cell_type": "code",
   "execution_count": 58,
   "metadata": {},
   "outputs": [
    {
     "name": "stdout",
     "output_type": "stream",
     "text": [
      "2003001\n",
      "2003-02-23\n",
      "10\n",
      "2017069\n",
      "2017-06-15\n",
      "02\n"
     ]
    }
   ],
   "source": [
    "db = dblottery.dblottery()\n",
    "historical_data=historical_data()\n",
    "rs=historical_data.get_all_data()\n",
    "red_matrix_frame = DataFrame(census_data.get_red_matrix(rs))\n",
    "blue_matrix_frame = DataFrame(census_data.get_blue_matrix(rs))\n",
    "map_frame = DataFrame(census_data.get_date_id_map(rs))"
   ]
  },
  {
   "cell_type": "code",
   "execution_count": 59,
   "metadata": {},
   "outputs": [],
   "source": [
    "#random_sample = red_matrix_frame.take(np.random.permutation(len(red_matrix_frame))[:3])\n",
    "#random_sample.T  "
   ]
  },
  {
   "cell_type": "code",
   "execution_count": 60,
   "metadata": {},
   "outputs": [],
   "source": [
    "#random_sample = blue_matrix_frame.take(np.random.permutation(len(blue_matrix_frame))[:3])\n",
    "#random_sample.T  "
   ]
  },
  {
   "cell_type": "code",
   "execution_count": 61,
   "metadata": {},
   "outputs": [],
   "source": [
    "#random_sample = map_frame.take(np.random.permutation(len(map_frame))[:3])\n",
    "#random_sample.T  "
   ]
  },
  {
   "cell_type": "raw",
   "metadata": {},
   "source": [
    "#rs = get_one_year_data_('2008')\n",
    "#rs = get_data_indentifier_range('2013001','2013160')\n",
    "  "
   ]
  },
  {
   "cell_type": "code",
   "execution_count": 62,
   "metadata": {},
   "outputs": [
    {
     "name": "stdout",
     "output_type": "stream",
     "text": [
      "1497777740.27\n"
     ]
    }
   ],
   "source": [
    "ts= str(time.time())\n",
    "print ts"
   ]
  },
  {
   "cell_type": "code",
   "execution_count": 63,
   "metadata": {},
   "outputs": [
    {
     "ename": "NameError",
     "evalue": "name 'sns' is not defined",
     "output_type": "error",
     "traceback": [
      "\u001b[1;31m---------------------------------------------------------------------------\u001b[0m",
      "\u001b[1;31mNameError\u001b[0m                                 Traceback (most recent call last)",
      "\u001b[1;32m<ipython-input-63-127824ecb848>\u001b[0m in \u001b[0;36m<module>\u001b[1;34m()\u001b[0m\n\u001b[0;32m      4\u001b[0m \u001b[1;31m#sns.pairplot(blue_matrix_frame[1:])\u001b[0m\u001b[1;33m\u001b[0m\u001b[1;33m\u001b[0m\u001b[0m\n\u001b[0;32m      5\u001b[0m \u001b[1;31m#sns.countplot(x='shot_made_flag', data=data)\u001b[0m\u001b[1;33m\u001b[0m\u001b[1;33m\u001b[0m\u001b[0m\n\u001b[1;32m----> 6\u001b[1;33m \u001b[0msns\u001b[0m\u001b[1;33m.\u001b[0m\u001b[0mcountplot\u001b[0m\u001b[1;33m(\u001b[0m\u001b[0mx\u001b[0m\u001b[1;33m=\u001b[0m\u001b[1;36m16\u001b[0m\u001b[1;33m,\u001b[0m \u001b[0mdata\u001b[0m\u001b[1;33m=\u001b[0m\u001b[0mblue_matrix_frame\u001b[0m\u001b[1;33m[\u001b[0m\u001b[1;36m1\u001b[0m\u001b[1;33m:\u001b[0m\u001b[1;33m]\u001b[0m\u001b[1;33m)\u001b[0m\u001b[1;33m\u001b[0m\u001b[0m\n\u001b[0m",
      "\u001b[1;31mNameError\u001b[0m: name 'sns' is not defined"
     ]
    }
   ],
   "source": [
    "xaxise =[i for i in range (17)]\n",
    "\n",
    "#sns.set_style('whitegrid')\n",
    "#sns.pairplot(blue_matrix_frame[1:])\n",
    "#sns.countplot(x='shot_made_flag', data=data)\n",
    "sns.countplot(x=16, data=blue_matrix_frame[1:])"
   ]
  },
  {
   "cell_type": "code",
   "execution_count": 64,
   "metadata": {
    "collapsed": true
   },
   "outputs": [],
   "source": [
    "df= blue_matrix_frame.loc[:,[1,2,3,4,5,6,7,8,9,10,11,12,13,14,15,16]].cumsum()\n",
    "df[17]=blue_matrix_frame[0]\n",
    "df['index']=df.index"
   ]
  },
  {
   "cell_type": "code",
   "execution_count": 65,
   "metadata": {},
   "outputs": [
    {
     "data": {
      "text/html": [
       "<div>\n",
       "<style>\n",
       "    .dataframe thead tr:only-child th {\n",
       "        text-align: right;\n",
       "    }\n",
       "\n",
       "    .dataframe thead th {\n",
       "        text-align: left;\n",
       "    }\n",
       "\n",
       "    .dataframe tbody tr th {\n",
       "        vertical-align: top;\n",
       "    }\n",
       "</style>\n",
       "<table border=\"1\" class=\"dataframe\">\n",
       "  <thead>\n",
       "    <tr style=\"text-align: right;\">\n",
       "      <th></th>\n",
       "      <th>1</th>\n",
       "      <th>2</th>\n",
       "      <th>3</th>\n",
       "      <th>4</th>\n",
       "      <th>5</th>\n",
       "      <th>6</th>\n",
       "      <th>7</th>\n",
       "      <th>8</th>\n",
       "      <th>9</th>\n",
       "      <th>10</th>\n",
       "      <th>11</th>\n",
       "      <th>12</th>\n",
       "      <th>13</th>\n",
       "      <th>14</th>\n",
       "      <th>15</th>\n",
       "      <th>16</th>\n",
       "      <th>17</th>\n",
       "      <th>index</th>\n",
       "    </tr>\n",
       "  </thead>\n",
       "  <tbody>\n",
       "    <tr>\n",
       "      <th>2116</th>\n",
       "      <td>133</td>\n",
       "      <td>121</td>\n",
       "      <td>124</td>\n",
       "      <td>121</td>\n",
       "      <td>132</td>\n",
       "      <td>130</td>\n",
       "      <td>135</td>\n",
       "      <td>118</td>\n",
       "      <td>147</td>\n",
       "      <td>129</td>\n",
       "      <td>142</td>\n",
       "      <td>143</td>\n",
       "      <td>135</td>\n",
       "      <td>136</td>\n",
       "      <td>136</td>\n",
       "      <td>135</td>\n",
       "      <td>2017065</td>\n",
       "      <td>2116</td>\n",
       "    </tr>\n",
       "    <tr>\n",
       "      <th>2117</th>\n",
       "      <td>133</td>\n",
       "      <td>121</td>\n",
       "      <td>125</td>\n",
       "      <td>121</td>\n",
       "      <td>132</td>\n",
       "      <td>130</td>\n",
       "      <td>135</td>\n",
       "      <td>118</td>\n",
       "      <td>147</td>\n",
       "      <td>129</td>\n",
       "      <td>142</td>\n",
       "      <td>143</td>\n",
       "      <td>135</td>\n",
       "      <td>136</td>\n",
       "      <td>136</td>\n",
       "      <td>135</td>\n",
       "      <td>2017066</td>\n",
       "      <td>2117</td>\n",
       "    </tr>\n",
       "    <tr>\n",
       "      <th>2118</th>\n",
       "      <td>133</td>\n",
       "      <td>121</td>\n",
       "      <td>125</td>\n",
       "      <td>122</td>\n",
       "      <td>132</td>\n",
       "      <td>130</td>\n",
       "      <td>135</td>\n",
       "      <td>118</td>\n",
       "      <td>147</td>\n",
       "      <td>129</td>\n",
       "      <td>142</td>\n",
       "      <td>143</td>\n",
       "      <td>135</td>\n",
       "      <td>136</td>\n",
       "      <td>136</td>\n",
       "      <td>135</td>\n",
       "      <td>2017067</td>\n",
       "      <td>2118</td>\n",
       "    </tr>\n",
       "    <tr>\n",
       "      <th>2119</th>\n",
       "      <td>133</td>\n",
       "      <td>121</td>\n",
       "      <td>125</td>\n",
       "      <td>122</td>\n",
       "      <td>132</td>\n",
       "      <td>130</td>\n",
       "      <td>135</td>\n",
       "      <td>118</td>\n",
       "      <td>147</td>\n",
       "      <td>129</td>\n",
       "      <td>142</td>\n",
       "      <td>143</td>\n",
       "      <td>135</td>\n",
       "      <td>136</td>\n",
       "      <td>137</td>\n",
       "      <td>135</td>\n",
       "      <td>2017068</td>\n",
       "      <td>2119</td>\n",
       "    </tr>\n",
       "    <tr>\n",
       "      <th>2120</th>\n",
       "      <td>133</td>\n",
       "      <td>121</td>\n",
       "      <td>125</td>\n",
       "      <td>122</td>\n",
       "      <td>133</td>\n",
       "      <td>130</td>\n",
       "      <td>135</td>\n",
       "      <td>118</td>\n",
       "      <td>147</td>\n",
       "      <td>129</td>\n",
       "      <td>142</td>\n",
       "      <td>143</td>\n",
       "      <td>135</td>\n",
       "      <td>136</td>\n",
       "      <td>137</td>\n",
       "      <td>135</td>\n",
       "      <td>2017069</td>\n",
       "      <td>2120</td>\n",
       "    </tr>\n",
       "  </tbody>\n",
       "</table>\n",
       "</div>"
      ],
      "text/plain": [
       "        1    2    3    4    5    6    7    8    9   10   11   12   13   14  \\\n",
       "2116  133  121  124  121  132  130  135  118  147  129  142  143  135  136   \n",
       "2117  133  121  125  121  132  130  135  118  147  129  142  143  135  136   \n",
       "2118  133  121  125  122  132  130  135  118  147  129  142  143  135  136   \n",
       "2119  133  121  125  122  132  130  135  118  147  129  142  143  135  136   \n",
       "2120  133  121  125  122  133  130  135  118  147  129  142  143  135  136   \n",
       "\n",
       "       15   16       17  index  \n",
       "2116  136  135  2017065   2116  \n",
       "2117  136  135  2017066   2117  \n",
       "2118  136  135  2017067   2118  \n",
       "2119  137  135  2017068   2119  \n",
       "2120  137  135  2017069   2120  "
      ]
     },
     "execution_count": 65,
     "metadata": {},
     "output_type": "execute_result"
    }
   ],
   "source": [
    "df.tail(5).index.values\n",
    "df.tail(5)"
   ]
  },
  {
   "cell_type": "code",
   "execution_count": 75,
   "metadata": {},
   "outputs": [
    {
     "name": "stdout",
     "output_type": "stream",
     "text": [
      "0\n"
     ]
    }
   ],
   "source": [
    "#red_matrix_frame = red_matrix_frame.append (census_data.get_sum_info(red_matrix_frame,False))\n",
    "#df= blue_matrix_frame[[i for i in range (1,17)]].cumsum()\n",
    "\n",
    "#blue_matrix_frame = blue_matrix_frame.append (census_data.get_sum_info(blue_matrix_frame,True))\n",
    "#ts= str(time.time())\n",
    "#print ts\n",
    "#red_matrix_frame.to_csv(r\"./result/redALL\"+ts+\".csv\",index=False)\n",
    "#blue_matrix_frame.to_csv(r\"./result/blueALL\"+ts+\".csv\",index=False)\n",
    "#map_frame.to_csv(r\"./result/mapALL\"+ts+\".csv\",index=False)\n",
    "#if debug==1:print census_data.get_sum_info(red_matrix_frame,False)\n",
    "#if debug==1:print census_data.get_sum_info(blue_matrix_frame,True)\n",
    "#print calc_per(sum(red_matrix_frame[1]),len(rs))\n",
    "#print red_matrix_frame.tail(3)\n",
    "#print blue_matrix_frame.tail(3)\n",
    "#census_data.find_same_rate_scale_blue(blue_matrix_frame)\n",
    "#print blue_matrix_frame\n",
    "#print map_frame\n",
    "\n",
    "#frame =DataFrame(rs)\n",
    "#print  frame[0][:10]\n",
    "#frame[0][:10].plot(kind='barh',rot=0)\n",
    "#print frame.values[0]\\\n",
    "s1= df.loc[1]\n",
    "s=[0,0,0,0,0,0,0,0,0,0,0,0,0,0,0,0,0,0]\n",
    "#s1.sub(s)\n",
    "print s1.min(axis=0)"
   ]
  },
  {
   "cell_type": "code",
   "execution_count": 76,
   "metadata": {
    "scrolled": true
   },
   "outputs": [],
   "source": [
    "length= len(df)\n",
    "result=[]\n",
    "for i in range (length):\n",
    "    rs = df.loc[i].sub(s)\n",
    "    if rs.min(axis=0)>0:\n",
    "        s = df.loc[i]\n",
    "        result.append(i)\n",
    "#result"
   ]
  },
  {
   "cell_type": "code",
   "execution_count": 77,
   "metadata": {},
   "outputs": [
    {
     "data": {
      "text/plain": [
       "count     40.000000\n",
       "mean      52.275000\n",
       "std       17.107484\n",
       "min       21.000000\n",
       "25%       41.000000\n",
       "50%       48.500000\n",
       "75%       58.500000\n",
       "max      104.000000\n",
       "Name: Length, dtype: float64"
      ]
     },
     "execution_count": 77,
     "metadata": {},
     "output_type": "execute_result"
    }
   ],
   "source": [
    "resultLen=[]\n",
    "length= len(result) \n",
    "for i in range (length): \n",
    "    if i==0: resultLen.append(result[0]) \n",
    "    else: resultLen.append(result[i]-result[i-1])\n",
    "\n",
    "dfResult=DataFrame(result)\n",
    "dfResult['Length']=resultLen \n",
    "dfResult\n",
    "dfResult['Length'].describe()"
   ]
  },
  {
   "cell_type": "code",
   "execution_count": 92,
   "metadata": {},
   "outputs": [
    {
     "ename": "TypeError",
     "evalue": "'DataFrame' object is not callable",
     "output_type": "error",
     "traceback": [
      "\u001b[1;31m---------------------------------------------------------------------------\u001b[0m",
      "\u001b[1;31mTypeError\u001b[0m                                 Traceback (most recent call last)",
      "\u001b[1;32m<ipython-input-92-7a779a4d52dc>\u001b[0m in \u001b[0;36m<module>\u001b[1;34m()\u001b[0m\n\u001b[0;32m      2\u001b[0m     \u001b[1;32mreturn\u001b[0m \u001b[0mdf\u001b[0m\u001b[1;33m.\u001b[0m\u001b[0mloc\u001b[0m\u001b[1;33m[\u001b[0m\u001b[1;33m:\u001b[0m\u001b[1;33m,\u001b[0m\u001b[1;33m[\u001b[0m\u001b[1;36m1\u001b[0m\u001b[1;33m,\u001b[0m\u001b[1;36m2\u001b[0m\u001b[1;33m,\u001b[0m\u001b[1;36m3\u001b[0m\u001b[1;33m,\u001b[0m\u001b[1;36m4\u001b[0m\u001b[1;33m,\u001b[0m\u001b[1;36m5\u001b[0m\u001b[1;33m,\u001b[0m\u001b[1;36m6\u001b[0m\u001b[1;33m,\u001b[0m\u001b[1;36m7\u001b[0m\u001b[1;33m,\u001b[0m\u001b[1;36m8\u001b[0m\u001b[1;33m,\u001b[0m\u001b[1;36m9\u001b[0m\u001b[1;33m,\u001b[0m\u001b[1;36m10\u001b[0m\u001b[1;33m,\u001b[0m\u001b[1;36m11\u001b[0m\u001b[1;33m,\u001b[0m\u001b[1;36m12\u001b[0m\u001b[1;33m,\u001b[0m\u001b[1;36m13\u001b[0m\u001b[1;33m,\u001b[0m\u001b[1;36m14\u001b[0m\u001b[1;33m,\u001b[0m\u001b[1;36m15\u001b[0m\u001b[1;33m,\u001b[0m\u001b[1;36m16\u001b[0m\u001b[1;33m]\u001b[0m\u001b[1;33m]\u001b[0m\u001b[1;33m.\u001b[0m\u001b[0mcumsum\u001b[0m\u001b[1;33m(\u001b[0m\u001b[1;33m)\u001b[0m\u001b[1;33m(\u001b[0m\u001b[0maxis\u001b[0m\u001b[1;33m=\u001b[0m\u001b[1;36m1\u001b[0m\u001b[1;33m)\u001b[0m\u001b[1;33m\u001b[0m\u001b[0m\n\u001b[0;32m      3\u001b[0m \u001b[1;33m\u001b[0m\u001b[0m\n\u001b[1;32m----> 4\u001b[1;33m \u001b[0mdf\u001b[0m\u001b[1;33m=\u001b[0m \u001b[0mSumCurrentCol\u001b[0m\u001b[1;33m(\u001b[0m\u001b[0mblue_matrix_frame\u001b[0m\u001b[1;33m.\u001b[0m\u001b[0mloc\u001b[0m\u001b[1;33m[\u001b[0m\u001b[1;33m:\u001b[0m\u001b[1;36m105\u001b[0m\u001b[1;33m,\u001b[0m\u001b[1;33m]\u001b[0m\u001b[1;33m)\u001b[0m\u001b[1;33m\u001b[0m\u001b[0m\n\u001b[0m\u001b[0;32m      5\u001b[0m \u001b[0mdf\u001b[0m\u001b[1;33m\u001b[0m\u001b[0m\n",
      "\u001b[1;32m<ipython-input-92-7a779a4d52dc>\u001b[0m in \u001b[0;36mSumCurrentCol\u001b[1;34m(df)\u001b[0m\n\u001b[0;32m      1\u001b[0m \u001b[1;32mdef\u001b[0m \u001b[0mSumCurrentCol\u001b[0m \u001b[1;33m(\u001b[0m\u001b[0mdf\u001b[0m\u001b[1;33m)\u001b[0m\u001b[1;33m:\u001b[0m\u001b[1;33m\u001b[0m\u001b[0m\n\u001b[1;32m----> 2\u001b[1;33m     \u001b[1;32mreturn\u001b[0m \u001b[0mdf\u001b[0m\u001b[1;33m.\u001b[0m\u001b[0mloc\u001b[0m\u001b[1;33m[\u001b[0m\u001b[1;33m:\u001b[0m\u001b[1;33m,\u001b[0m\u001b[1;33m[\u001b[0m\u001b[1;36m1\u001b[0m\u001b[1;33m,\u001b[0m\u001b[1;36m2\u001b[0m\u001b[1;33m,\u001b[0m\u001b[1;36m3\u001b[0m\u001b[1;33m,\u001b[0m\u001b[1;36m4\u001b[0m\u001b[1;33m,\u001b[0m\u001b[1;36m5\u001b[0m\u001b[1;33m,\u001b[0m\u001b[1;36m6\u001b[0m\u001b[1;33m,\u001b[0m\u001b[1;36m7\u001b[0m\u001b[1;33m,\u001b[0m\u001b[1;36m8\u001b[0m\u001b[1;33m,\u001b[0m\u001b[1;36m9\u001b[0m\u001b[1;33m,\u001b[0m\u001b[1;36m10\u001b[0m\u001b[1;33m,\u001b[0m\u001b[1;36m11\u001b[0m\u001b[1;33m,\u001b[0m\u001b[1;36m12\u001b[0m\u001b[1;33m,\u001b[0m\u001b[1;36m13\u001b[0m\u001b[1;33m,\u001b[0m\u001b[1;36m14\u001b[0m\u001b[1;33m,\u001b[0m\u001b[1;36m15\u001b[0m\u001b[1;33m,\u001b[0m\u001b[1;36m16\u001b[0m\u001b[1;33m]\u001b[0m\u001b[1;33m]\u001b[0m\u001b[1;33m.\u001b[0m\u001b[0mcumsum\u001b[0m\u001b[1;33m(\u001b[0m\u001b[1;33m)\u001b[0m\u001b[1;33m(\u001b[0m\u001b[0maxis\u001b[0m\u001b[1;33m=\u001b[0m\u001b[1;36m1\u001b[0m\u001b[1;33m)\u001b[0m\u001b[1;33m\u001b[0m\u001b[0m\n\u001b[0m\u001b[0;32m      3\u001b[0m \u001b[1;33m\u001b[0m\u001b[0m\n\u001b[0;32m      4\u001b[0m \u001b[0mdf\u001b[0m\u001b[1;33m=\u001b[0m \u001b[0mSumCurrentCol\u001b[0m\u001b[1;33m(\u001b[0m\u001b[0mblue_matrix_frame\u001b[0m\u001b[1;33m.\u001b[0m\u001b[0mloc\u001b[0m\u001b[1;33m[\u001b[0m\u001b[1;33m:\u001b[0m\u001b[1;36m105\u001b[0m\u001b[1;33m,\u001b[0m\u001b[1;33m]\u001b[0m\u001b[1;33m)\u001b[0m\u001b[1;33m\u001b[0m\u001b[0m\n\u001b[0;32m      5\u001b[0m \u001b[0mdf\u001b[0m\u001b[1;33m\u001b[0m\u001b[0m\n",
      "\u001b[1;31mTypeError\u001b[0m: 'DataFrame' object is not callable"
     ]
    }
   ],
   "source": [
    "def SumCurrentCol (df):\n",
    "    return df.loc[:,[1,2,3,4,5,6,7,8,9,10,11,12,13,14,15,16]].cumsum()(axis=1)\n",
    "\n",
    "df= SumCurrentCol(blue_matrix_frame.loc[:105,])\n",
    "df\n"
   ]
  },
  {
   "cell_type": "code",
   "execution_count": 86,
   "metadata": {},
   "outputs": [
    {
     "name": "stdout",
     "output_type": "stream",
     "text": [
      "13\n",
      "14\n"
     ]
    }
   ],
   "source": [
    "def countNonShowNum(sumShow):\n",
    "    length=len(sumShow)\n",
    "    rs=length\n",
    "    for i in range (length):\n",
    "        if sumShow[i] > 0: rs=rs-1\n",
    "    return rs\n",
    "\n",
    "TempShow=[0,0,0,0,4,5,6,0,0,0,0,0,0,0,0,0]\n",
    "print countNonShowNum (TempShow)   \n",
    "\n",
    "def countAvliableNum(sumShow,maxShowTime):\n",
    "    length=len(sumShow)\n",
    "    rs=length\n",
    "    for i in range (length):\n",
    "        if sumShow[i] >= maxShowTime: rs=rs-1\n",
    "    return rs\n",
    "\n",
    "print countAvliableNum (TempShow,5)"
   ]
  },
  {
   "cell_type": "code",
   "execution_count": 80,
   "metadata": {
    "collapsed": true
   },
   "outputs": [],
   "source": [
    "def CalcPorsibility (RoundNum,Col):\n",
    "    MaxShow=5    # Max show time in Trust Zone\n",
    "    TrustNum=52  # define Trust Zone scope\n",
    "    sumShow=[0,0,0,0,0,0,0,0,0,0,0,0,0,0,0,0]  # record summary of show times for each col\n",
    "    #get summary of current col\n",
    "    SumCol= SumCurrentCol(Col)             \n",
    "    # update record \n",
    "    sumShow[Col.index]=Sumcol       \n",
    "    \n",
    "    if sumShow > MaxShow:\n",
    "        return 0\n",
    "   # get number of zero in summary record \n",
    "    NonShow = countNonShowNum(sumShow)\n",
    "    \n",
    "    if (TrustNum - RoundNum)> NonShow :\n",
    "        # get number of col not reached Maxshow times\n",
    "        avliableNum=countAvliableNum(sumShow,MaxShow)\n",
    "        return (1/(17-avliableNum))*((MaxShow-sumShow)/MaxShow)*(1/(TrustNum - RoundNum))\n",
    "    else:\n",
    "         return 1/NonShow\n",
    "        \n",
    "\n",
    "\n"
   ]
  },
  {
   "cell_type": "code",
   "execution_count": null,
   "metadata": {
    "collapsed": true
   },
   "outputs": [],
   "source": []
  }
 ],
 "metadata": {
  "kernelspec": {
   "display_name": "Python 2",
   "language": "python",
   "name": "python2"
  },
  "language_info": {
   "codemirror_mode": {
    "name": "ipython",
    "version": 2
   },
   "file_extension": ".py",
   "mimetype": "text/x-python",
   "name": "python",
   "nbconvert_exporter": "python",
   "pygments_lexer": "ipython2",
   "version": "2.7.11"
  }
 },
 "nbformat": 4,
 "nbformat_minor": 2
}
